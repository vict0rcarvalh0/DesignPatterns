{
  "nbformat": 4,
  "nbformat_minor": 0,
  "metadata": {
    "colab": {
      "provenance": [],
      "collapsed_sections": [
        "HD8a414IOlSi",
        "FRP37XnbOoqB",
        "Xr7KEPcmOtdD",
        "BmEZs33zOw7-"
      ]
    },
    "kernelspec": {
      "name": "python3",
      "display_name": "Python 3"
    },
    "language_info": {
      "name": "python"
    }
  },
  "cells": [
    {
      "cell_type": "markdown",
      "source": [
        "# Singleton"
      ],
      "metadata": {
        "id": "HD8a414IOlSi"
      }
    },
    {
      "cell_type": "code",
      "execution_count": null,
      "metadata": {
        "colab": {
          "base_uri": "https://localhost:8080/"
        },
        "id": "eLa3_Sm4QKkh",
        "outputId": "c5202ac9-bcc6-4e0a-d34f-a9c350a10fa0"
      },
      "outputs": [
        {
          "output_type": "stream",
          "name": "stdout",
          "text": [
            "Creating the object <__main__.Singleton object at 0x7a53a4f66860>\n",
            "Instance 1: 134499668486240\n",
            "Instance 2: 134499668486240\n"
          ]
        }
      ],
      "source": [
        "class Singleton(object):\n",
        "\n",
        "  # Método que é executado antes do init(construtor), ele cria um novo objeto\n",
        "  def __new__(cls):\n",
        "\n",
        "    # Se não existir o atributo instance\n",
        "    if not hasattr(cls, 'instance'):\n",
        "\n",
        "      # Cria o atributo instance e intancia o método pelo \"new\"\n",
        "      cls.instance = super(Singleton, cls).__new__(cls)\n",
        "      print(f'Creating the object {cls.instance}')\n",
        "    return cls.instance\n",
        "\n",
        "s1 = Singleton()\n",
        "print(f'Instance 1: {id(s1)}')\n",
        "\n",
        "s2 = Singleton()\n",
        "print(f'Instance 2: {id(s2)}')"
      ]
    },
    {
      "cell_type": "markdown",
      "source": [
        "# Usando Lazy Instance no Singleton"
      ],
      "metadata": {
        "id": "FRP37XnbOoqB"
      }
    },
    {
      "cell_type": "code",
      "source": [
        "# Fazendo uso da lazy instance\n",
        "# Instancia um objeto que não é utilizado no momento da instanciação, ele é criado só quando precisar ser utilizado\n",
        "\n",
        "class Singleton:\n",
        "  __instance = None\n",
        "\n",
        "  def __init__(self):\n",
        "\n",
        "    # Se a instância do Singleton for None\n",
        "    if not Singleton.__instance:\n",
        "      print(\"The method __init\"\" was called...\")\n",
        "\n",
        "    # Se a instância não for None\n",
        "    else:\n",
        "      print(f\"The instance is already created: {self.get_instance()}\")\n",
        "\n",
        "  # Método estático de classe\n",
        "  @classmethod\n",
        "  def get_instance(cls):\n",
        "\n",
        "    # Se a instância for nula\n",
        "    if not cls.__instance:\n",
        "\n",
        "      # Instancia a classe\n",
        "      cls.__instance = Singleton()\n",
        "    return cls.__instance\n",
        "\n",
        "s1 = Singleton() # Classe inicializada mas objeto não é criado\n",
        "\n",
        "print(f\"Object created now: {Singleton.get_instance()}\")\n",
        "\n",
        "s2 = Singleton() # Instância já criada\n",
        "\n",
        "# Init é chamado duas vezes, justamente por não criar o objeto no momento da primeira instância\n",
        "\n",
        "# Padrão lazy é utilizado com generators(não tem o objeto quando executa, só quando precisa)\n"
      ],
      "metadata": {
        "colab": {
          "base_uri": "https://localhost:8080/"
        },
        "id": "1BjpLkHwUC9-",
        "outputId": "b68ae10b-cf3b-427e-b469-d8e5c61bc112"
      },
      "execution_count": null,
      "outputs": [
        {
          "output_type": "stream",
          "name": "stdout",
          "text": [
            "The method __init was called...\n",
            "The method __init was called...\n",
            "Object created now: <__main__.Singleton object at 0x7a53a410dc00>\n",
            "The instance is already created: <__main__.Singleton object at 0x7a53a410dc00>\n"
          ]
        }
      ]
    },
    {
      "cell_type": "markdown",
      "source": [
        "# Singleton Monostate"
      ],
      "metadata": {
        "id": "Xr7KEPcmOtdD"
      }
    },
    {
      "cell_type": "code",
      "source": [
        "class Monostate:\n",
        "  # Atributo de classe\n",
        "  __state = {}\n",
        "\n",
        "  # Construtor do objeto\n",
        "  def __new__(cls, *args, **kwargs):\n",
        "    # Construção do objeto\n",
        "    obj = super(Monostate, cls).__new__(cls, *args, **kwargs)\n",
        "\n",
        "    # Atribui um dicionário(objeto estruturado) ao estado\n",
        "    obj.__dict__ = cls.__state\n",
        "    return obj\n",
        "\n",
        "m1 = Monostate()\n",
        "print(f\"M1 ID: {id(m1)}\")\n",
        "print(m1.__dict__)\n",
        "\n",
        "m2 = Monostate()\n",
        "print(f\"M2 ID: {id(m2)}\")\n",
        "print(m2.__dict__)\n",
        "\n",
        "m1.name = \"Victor\"\n",
        "print(f\"M1: {m1.__dict__}\")\n",
        "print(f\"M2: {m2.__dict__}\")"
      ],
      "metadata": {
        "colab": {
          "base_uri": "https://localhost:8080/"
        },
        "id": "UT3RFWGg9vPf",
        "outputId": "e20800dc-7b73-4dce-9d75-a0164543f389"
      },
      "execution_count": null,
      "outputs": [
        {
          "output_type": "stream",
          "name": "stdout",
          "text": [
            "M1 ID: 136880959317680\n",
            "{}\n",
            "M2 ID: 136880959308992\n",
            "{}\n",
            "M1: {'name': 'Victor'}\n",
            "M2: {'name': 'Victor'}\n"
          ]
        }
      ]
    },
    {
      "cell_type": "markdown",
      "source": [
        "# Singleton e Metaclasses"
      ],
      "metadata": {
        "id": "BmEZs33zOw7-"
      }
    },
    {
      "cell_type": "code",
      "source": [
        "class University(type):\n",
        "\n",
        "  # Método que é chamado quando o objeto precisa ser criado para uma classe existente\n",
        "    # Quando instancia a Geek, o call da metaclasse é chamado\n",
        "  def __call__(cls, *args, **kwargs):\n",
        "    print(f\"=== These are the args: {args}\")\n",
        "    return type.__call__(cls, *args, **kwargs)\n",
        "\n",
        "class Geek(metaclass = University):\n",
        "  def __init__(self, val1, val2):\n",
        "    self.val1 = val1\n",
        "    self.val2 = val2\n",
        "\n",
        "object = Geek(42, 23)\n",
        "print(object)\n",
        "\n",
        "# Mais controle sobre criação da classe e instanciação de objetos\n",
        "  # Logo, metaclasses podem ser utilizadas para criar Singletons"
      ],
      "metadata": {
        "colab": {
          "base_uri": "https://localhost:8080/"
        },
        "id": "8LN9SiORBKLF",
        "outputId": "740f8aed-4904-45df-ef82-62e7cc0f4bae"
      },
      "execution_count": null,
      "outputs": [
        {
          "output_type": "stream",
          "name": "stdout",
          "text": [
            "=== These are the args: (42, 23)\n",
            "<__main__.Geek object at 0x7c7e14f4e380>\n"
          ]
        }
      ]
    },
    {
      "cell_type": "code",
      "source": [
        "class MetaSingleton(type):\n",
        "  __instances = {}\n",
        "\n",
        "  def __call__(cls, *args, **kwargs):\n",
        "\n",
        "    # Se a classe não estiver dentro do conjunto de instâncias\n",
        "    if cls not in cls.__instances:\n",
        "\n",
        "      # Instancia um objeto e adiciona ao dicionário\n",
        "      cls.__instances[cls] = super(MetaSingleton, cls).__call__(*args, **kwargs)\n",
        "\n",
        "    # Retorna se ela já existe\n",
        "    return cls.__instances[cls]\n",
        "\n",
        "# Metaclasse passa a controlar a criação de Singletons(instanciação de objetos)\n",
        "class Logger(metaclass=MetaSingleton):\n",
        "  pass\n",
        "\n",
        "log1 = Logger()\n",
        "print(f\"Log 1: {id(log1)}\")\n",
        "\n",
        "log2 = Logger()\n",
        "print(f\"Log 2: {id(log2)}\")"
      ],
      "metadata": {
        "colab": {
          "base_uri": "https://localhost:8080/"
        },
        "id": "m3dEFdQACd4n",
        "outputId": "bf70305d-c7ba-4122-f527-ea24183d6835"
      },
      "execution_count": null,
      "outputs": [
        {
          "output_type": "stream",
          "name": "stdout",
          "text": [
            "Log 1: 136880048047872\n",
            "Log 2: 136880048047872\n"
          ]
        }
      ]
    },
    {
      "cell_type": "markdown",
      "source": [
        "# Projeto Real Singleton - 1\n",
        "\n",
        "Aplicação Web que envolve várias operação de Read/Write em um banco de dados. Essa aplicação é dividida em vários serviços que executam as operações no banco de dados e os usuários interagem com uma interface que se comunica com uma API, que em algum momento executa as operaçõse no bando de dados(controlado por vários serviços).\n",
        "\n",
        "Nesse sentido, o sistema precisa ter consistência entre as operações do banco de dados(evitar conflitos) e a utilização de memória e CPU devem estar otimizadas par ao tratamento de várias operações do banco de dados."
      ],
      "metadata": {
        "id": "U2zpMdB6O1lS"
      }
    },
    {
      "cell_type": "code",
      "source": [
        "import sqlite3\n",
        "\n",
        "# Classe que herda de type, tem uma metaclasse\n",
        "class Singleton(type):\n",
        "\n",
        "  __instances = {}\n",
        "\n",
        "  def __call__(cls, *args, **kwargs):\n",
        "    if cls not in cls.__instances:\n",
        "      cls.__instances[cls] = super(Singleton, cls).__call__(*args, **kwargs)\n",
        "    return cls.__instances[cls]\n",
        "\n",
        "\n",
        "# Utilização da classe Singleton para que tenha só uma instância de Database\n",
        "class Database(metaclass=Singleton):\n",
        "\n",
        "  # Atributo de classe inicializado como None\n",
        "  connection = None\n",
        "\n",
        "  # Método que verifica se a conexão é none\n",
        "  def connect(self):\n",
        "\n",
        "    # Se for None, ele cria um db na root e cria um cursor que permite acesso a operações no db\n",
        "    if self.connection is None:\n",
        "      print(f\"We don't have a connection yet... let's create it\")\n",
        "      self.connection = sqlite3.connect('db.project')\n",
        "      self.cursor = self.connection.cursor()\n",
        "    return self.cursor\n",
        "\n",
        "db1 = Database().connect()\n",
        "db2 = Database().connect()\n",
        "\n",
        "# db1.execute('SELECT * FROM produtos')"
      ],
      "metadata": {
        "colab": {
          "base_uri": "https://localhost:8080/"
        },
        "id": "fdshdEhZQCHh",
        "outputId": "1d1347ab-c35b-44a0-b36b-0e5a8b6a53ce"
      },
      "execution_count": null,
      "outputs": [
        {
          "output_type": "stream",
          "name": "stdout",
          "text": [
            "We don't have a connection yet... let's create it\n"
          ]
        }
      ]
    },
    {
      "cell_type": "markdown",
      "source": [
        "# Projeto Real Singleton - 2\n",
        "\n",
        "Atualmente existe a profissão de DevOps, imagine que sua função como DevOps é garantir a sanidade de servidores da empresa que trabalha. Para isso, quer que exista apenas uma instância de uma classe Health Check, que o objeto vai checar se todos os servidores estão operando.\n",
        "\n",
        "A classe precisa ter uma lista de servidores para realizar a verificação, se um servidor foi removido da lista, o software deve detectar uma mudança e removê-lo dos servidores configurados para serem verificados."
      ],
      "metadata": {
        "id": "LiIOAwmhSaqw"
      }
    },
    {
      "cell_type": "code",
      "source": [
        "class HealthCheck:\n",
        "\n",
        "  __instance = None\n",
        "\n",
        "  def __new__(cls, *args, **kwargs):\n",
        "    if not HealthCheck.__instance:\n",
        "      HealthCheck.__instance = super(HealthCheck, cls).__new__(cls, *args, **kwargs)\n",
        "    return HealthCheck.__instance\n",
        "\n",
        "  def __init__(self):\n",
        "    self.__servers = []\n",
        "\n",
        "  def check_server(self, srv):\n",
        "    print(f\"Checking the {self.__servers[srv]}\")\n",
        "    # Aqui poderia fazer um ping para os servidores para verificar\n",
        "\n",
        "  def add_server(self):\n",
        "    self.__servers.append(\"NodeJS Server\")\n",
        "    self.__servers.append(\"Rust Server\")\n",
        "    self.__servers.append(\".NET Server\")\n",
        "    self.__servers.append(\"Ruby Server\")\n",
        "\n",
        "  def change_server(self):\n",
        "    self.__servers.pop()\n",
        "    self.__servers.append(\"Flask Server\")\n",
        "\n",
        "\n",
        "hc1 = HealthCheck()\n",
        "hc2 = HealthCheck()\n",
        "\n",
        "hc1.add_server()\n",
        "print(\"Health Check Timeline 1\")\n",
        "print(\"-\"*30)\n",
        "for srv in range(4):\n",
        "  hc1.check_server(srv)\n",
        "\n",
        "print(\"-\"*30)\n",
        "hc2.change_server()\n",
        "print(\"Health Check Timeline 2\")\n",
        "print(\"-\"*30)\n",
        "for srv in range(4):\n",
        "  hc2.check_server(srv)"
      ],
      "metadata": {
        "colab": {
          "base_uri": "https://localhost:8080/"
        },
        "id": "DRXEJ7JnTQNE",
        "outputId": "ed3b363a-f9c4-446c-8d72-29edce6efaf0"
      },
      "execution_count": null,
      "outputs": [
        {
          "output_type": "stream",
          "name": "stdout",
          "text": [
            "Health Check Timeline 1\n",
            "------------------------------\n",
            "Checking the NodeJS Server\n",
            "Checking the Rust Server\n",
            "Checking the .NET Server\n",
            "Checking the Ruby Server\n",
            "------------------------------\n",
            "Health Check Timeline 2\n",
            "------------------------------\n",
            "Checking the NodeJS Server\n",
            "Checking the Rust Server\n",
            "Checking the .NET Server\n",
            "Checking the Flask Server\n"
          ]
        }
      ]
    },
    {
      "cell_type": "markdown",
      "source": [
        "# Simple Factory"
      ],
      "metadata": {
        "id": "39SgCIxagcZ0"
      }
    },
    {
      "cell_type": "code",
      "source": [
        "from abc import ABCMeta, abstractmethod\n",
        "\n",
        "# Extende uma metaclasse\n",
        "class Animal(metaclass=ABCMeta):\n",
        "  @abstractmethod\n",
        "  def talk(self):\n",
        "    pass\n",
        "\n",
        "# Extende a classe Animal\n",
        "class Dog(Animal):\n",
        "\n",
        "  # Utiliza o método da classe animal\n",
        "  def talk(self):\n",
        "    print(\"Au au!\")\n",
        "\n",
        "class Cat(Animal):\n",
        "\n",
        "  # Utiliza o método da classe animal\n",
        "  def talk(self):\n",
        "    print(\"Meow!\")\n",
        "\n",
        "# Fábrica\n",
        "class SimpleFactory:\n",
        "\n",
        "  # Método que cria um tipo de animal\n",
        "  def create_talker_animal(self, type):\n",
        "\n",
        "    # Instancia um objeto e executa um método\n",
        "    return eval(type)().talk() # Eval serve para avaliar a string passada como parâmetro e tentar executar como comando python\n",
        "    # Devolvendo só o Objeto\n",
        "    #return eval(type)()\n",
        "\n",
        "# Client\n",
        "if __name__ == '__main__':\n",
        "  factory = SimpleFactory()\n",
        "  animal = input(\"Which animal you want to talk? [Dog, Cat]\")\n",
        "  factory.create_talker_animal(animal)\n",
        "\n",
        "# Exemplo de Eval\n",
        "  # eval(string)(instancia).método()\n",
        "  # Pega a string e tenta executar como comando Python(ex: Cat())\n",
        "  # O () efetua a instância daquele comando Python\n",
        "  # O método é instanciado\n",
        "  # eval(\"Cat\")().talk()\n",
        "\n",
        "# Tudo é feito a partir da fábrica, de forma que o cliente acessa somente a Fabric, que cria uma instância dos Animais\n",
        "# Cliente não precisa saber o que acontece pois ele não acessa diretamente a classe a qual interagiu\n",
        "# Ele interage via Factory\n",
        "# A metaclasse abstrata é instanciada em outras classes\n",
        "# A Factory acessa os métodos das classes"
      ],
      "metadata": {
        "colab": {
          "base_uri": "https://localhost:8080/"
        },
        "id": "hlnbx7wLgiHR",
        "outputId": "c041c03b-87ef-44b5-bfad-ec7400788ffc"
      },
      "execution_count": null,
      "outputs": [
        {
          "output_type": "stream",
          "name": "stdout",
          "text": [
            "Which animal you want to talk? [Dog, Cat]Dog\n",
            "Au au!\n"
          ]
        }
      ]
    },
    {
      "cell_type": "markdown",
      "source": [
        "# Factory Method\n",
        "Imagine que tem uma aplicação web que cria perfis em redes sociais automaticamente.\n",
        "\n",
        "Exemplo: empresa que gerencia cadastros e perfis em redes sociais, alimentando as seções de acordo com as escolhas dos indivíduos."
      ],
      "metadata": {
        "id": "a-JrE_1SglxK"
      }
    },
    {
      "cell_type": "code",
      "source": [
        "from abc import ABCMeta, abstractmethod\n",
        "\n",
        "# Classe abstrata que vai servir de base para as outras classes\n",
        "class Section(metaclass=ABCMeta):\n",
        "\n",
        "  # Método de representação -> É abstrato pois as classes filhas que vão executar\n",
        "  @abstractmethod\n",
        "  def __repr__(self):\n",
        "    pass\n",
        "\n",
        "# Instancia o objeto\n",
        "class PersonalSection(Section):\n",
        "  def __repr__(self):\n",
        "    return \"Personal Section\"\n",
        "\n",
        "class AlbumSection(Section):\n",
        "  def __repr__(self):\n",
        "    return \"Album Section\"\n",
        "\n",
        "class ProjectSection(Section):\n",
        "  def __repr__(self):\n",
        "    return \"Project Section\"\n",
        "\n",
        "class PublicationSection(Section):\n",
        "  def __repr__(self):\n",
        "    return \"Publication Section\"\n",
        "\n",
        "class Profile(metaclass=ABCMeta):\n",
        "\n",
        "  # Cada perfil tem uma lista de seções e um método de criar perfil\n",
        "  def __init__(self):\n",
        "    self.sections = []\n",
        "    self.create_profile()\n",
        "\n",
        "  # Método abstrato pois as classes filhas que vão executar\n",
        "  @abstractmethod\n",
        "  def create_profile(self): # Esse aqui é o Factory Method\n",
        "    pass\n",
        "\n",
        "  def get_sections(self):\n",
        "    return self.sections\n",
        "\n",
        "  def add_section(self, section):\n",
        "    self.sections.append(section)\n",
        "\n",
        "class Linkedln(Profile):\n",
        "\n",
        "  def create_profile(self):\n",
        "    self.add_section(PersonalSection()) # Adiciona instância das seções na lista de seções\n",
        "    self.add_section(ProjectSection())\n",
        "    self.add_section(PublicationSection())\n",
        "\n",
        "class Facebook(Profile):\n",
        "\n",
        "  def create_profile(self):\n",
        "    self.add_section(PersonalSection())  # Adiciona instância das seções na lista de seções\n",
        "    self.add_section(AlbumSection())\n",
        "\n",
        "if __name__ == \"__main__\":\n",
        "  social_media = input(\"Which social media you want to create your profile? [Linkedln, Facebook] \")\n",
        "\n",
        "  # A partir do profile, utiliza a instância e a executa em seguida\n",
        "  profile = eval(social_media)()\n",
        "\n",
        "  print(f\"Creating profile on {type(profile).__name__}\")\n",
        "  print(f\"The profile has the sections: {profile.get_sections()}\")\n",
        "\n",
        "# O cliente nunca interage diretamente com as seções, mas sim com um creator e concrete creator\n",
        "\n",
        "# Classe está sendo criada de forma abstrata em Perfil(Creator)\n",
        "# Métodos dela são utilizados pelas classes filhas Linkedin e Facebook(Concrete Creator)"
      ],
      "metadata": {
        "colab": {
          "base_uri": "https://localhost:8080/"
        },
        "id": "mY5lMIhigqUD",
        "outputId": "b41c551c-36ef-4213-b8f4-076aa7645bbe"
      },
      "execution_count": null,
      "outputs": [
        {
          "output_type": "stream",
          "name": "stdout",
          "text": [
            "Which social media you want to create your profile? [Linkedln, Facebook]Facebook\n",
            "Creating profile on Facebook\n",
            "The profile has the sections: [Personal Section, Album Section]\n"
          ]
        }
      ]
    },
    {
      "cell_type": "markdown",
      "source": [
        "# Abstract Factory\n",
        "**Contexto:** Imagine que está desenvolvendo um sistema para sua pizzaria favorita, que serve pizzas brasileiras, italianas, veganas e não veganas"
      ],
      "metadata": {
        "id": "upXRYlZYg4kR"
      }
    },
    {
      "cell_type": "code",
      "source": [
        "from abc import ABCMeta, abstractmethod\n",
        "\n",
        "# Abstract Factory\n",
        "class PizzaFactory(metaclass=ABCMeta):\n",
        "  @abstractmethod\n",
        "  def create_veggie_pizza(self):\n",
        "    pass\n",
        "\n",
        "  @abstractmethod\n",
        "  def create_pizza(self):\n",
        "    pass\n",
        "\n",
        "# Concrete Factory A\n",
        "class BrazilianPizza(PizzaFactory):\n",
        "  def create_veggie_pizza(self):\n",
        "    return LettucePizza()\n",
        "\n",
        "  def create_pizza(self):\n",
        "    return PepperoniPizza()\n",
        "\n",
        "# Concrete Factory B\n",
        "class ItalianPizza(PizzaFactory):\n",
        "  def create_veggie_pizza(self):\n",
        "    return BroccoliPizza()\n",
        "\n",
        "  def create_pizza(self):\n",
        "    return BolognaPizza()\n",
        "\n",
        "# Abstract Product A\n",
        "class VeggiePizza(metaclass=ABCMeta):\n",
        "  @abstractmethod\n",
        "  def prepare(self, VeggiePizza):\n",
        "    pass\n",
        "\n",
        "# Abstract Product B\n",
        "class Pizza(metaclass=ABCMeta):\n",
        "  @abstractmethod\n",
        "  def serve(self, VeggiePizza):\n",
        "    pass\n",
        "\n",
        "# Concrete Products\n",
        "class LettucePizza(VeggiePizza):\n",
        "  def prepare(self):\n",
        "    print(f\"Preparing {type(self).__name__}\")\n",
        "\n",
        "\n",
        "class PepperoniPizza(Pizza):\n",
        "  def serve(self, VeggiePizza):\n",
        "    print(f\"{type(self).__name__} is served with Pepperoni in {type(VeggiePizza).__name__}\")\n",
        "\n",
        "class BroccoliPizza(VeggiePizza):\n",
        "  def prepare(self):\n",
        "    print(f\"Preparing {type(self).__name__}\")\n",
        "\n",
        "class BolognaPizza(Pizza):\n",
        "  def serve(self, VeggiePizza):\n",
        "    print(f\"{type(self).__name__} is served with Bologna in {type(VeggiePizza).__name__}\")\n",
        "\n",
        "# Client\n",
        "class Pizzeria:\n",
        "\n",
        "  def make_pizzas(self):\n",
        "    for factory in [BrazilianPizza(), ItalianPizza()]:\n",
        "      self.factory = factory\n",
        "      self.pizza = self.factory.create_pizza()\n",
        "      self.veggie_pizza = self.factory.create_veggie_pizza()\n",
        "      self.veggie_pizza.prepare()\n",
        "      self.pizza.serve(self.veggie_pizza)\n",
        "\n",
        "pizzeria = Pizzeria()\n",
        "pizzeria.make_pizzas()"
      ],
      "metadata": {
        "colab": {
          "base_uri": "https://localhost:8080/"
        },
        "id": "OKT9MOGAg5Wb",
        "outputId": "655cc894-07b3-40bd-a05f-668dc39bdc15"
      },
      "execution_count": null,
      "outputs": [
        {
          "output_type": "stream",
          "name": "stdout",
          "text": [
            "Preparing LettucePizza\n",
            "PepperoniPizza is served with Pepperoni in LettucePizza\n",
            "Preparing BroccoliPizza\n",
            "BolognaPizza is served with Bologna in BroccoliPizza\n"
          ]
        }
      ]
    }
  ]
}