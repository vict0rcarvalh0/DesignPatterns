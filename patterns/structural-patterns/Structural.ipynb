{
  "nbformat": 4,
  "nbformat_minor": 0,
  "metadata": {
    "colab": {
      "provenance": [],
      "collapsed_sections": [
        "rdi7HkljsRGR",
        "BdDvFIpEkQMV"
      ]
    },
    "kernelspec": {
      "name": "python3",
      "display_name": "Python 3"
    },
    "language_info": {
      "name": "python"
    }
  },
  "cells": [
    {
      "cell_type": "markdown",
      "source": [
        "# Façade\n",
        "Imagine que é um organizador de eventos e alguém te procurou para prestar serviços para um casamento. Todos os serviços são terceirizados, por isso, é necessário contratar banda, buffet e floricultura.\n",
        "A ideia é ter um sistema automatizado para gerenciar esses eventos.\n",
        "\n",
        "- Cliente: sou eu ou quem está contratando\n",
        "- Façade: sistema montado\n",
        "- Sistemas: salão de festa, florista, banda, buffet, etc"
      ],
      "metadata": {
        "id": "rdi7HkljsRGR"
      }
    },
    {
      "cell_type": "code",
      "execution_count": null,
      "metadata": {
        "id": "gJD3s6x-pQXH",
        "colab": {
          "base_uri": "https://localhost:8080/"
        },
        "outputId": "56526b2d-dfa7-41db-d11e-0cedaf8b4fb2"
      },
      "outputs": [
        {
          "output_type": "stream",
          "name": "stdout",
          "text": [
            "Client :: Wow! Preparation for event!\n",
            "Client :: I will hire a company to manage the event\n",
            "\n",
            "EventManager :: I will take care of everything!\n",
            "\n",
            "\n",
            "PartyPlace :: Scheduling the party place to the event..\n",
            "PartyPlace :: Is this place available?\n",
            "PartyPlace :: Schedule of the party place made!\n",
            "\n",
            "Florist :: Flowers for an event?\n",
            "Florist :: Roses, daisies and lilies will be used..\n",
            "\n",
            "Restaurant :: Buffet for the event?\n",
            "Restaurant :: Chinese and brazilian food will be served..\n",
            "\n",
            "Band :: Music Band for the event?\n",
            "Band :: Preparing stage to play rock in the event..\n",
            "\n",
            "Client :: It was simple to organize this event with Façade System!\n"
          ]
        }
      ],
      "source": [
        "# Façade\n",
        "class EventManager:\n",
        "\n",
        "  def __init__(self):\n",
        "    print(\"EventManager :: I will take care of everything!\\n\\n\")\n",
        "\n",
        "  def organize(self):\n",
        "    self.place = PartyPlace()\n",
        "    self.place.schedule()\n",
        "\n",
        "    self.flowers = Florist()\n",
        "    self.flowers.get_flowers()\n",
        "\n",
        "    self.buffet = Restaurant()\n",
        "    self.buffet.prepare()\n",
        "\n",
        "    self.music = Band()\n",
        "    self.music.set_up_stage()\n",
        "\n",
        "    # Quando o cliente instanciar um objeto EventManager, o método organize é executado\n",
        "\n",
        "# Subsistema 1\n",
        "\n",
        "class PartyPlace:\n",
        "\n",
        "  def __init__(self):\n",
        "    print(\"PartyPlace :: Scheduling the party place to the event..\")\n",
        "\n",
        "  def _is_available(self):\n",
        "    print(\"PartyPlace :: Is this place available?\")\n",
        "    return True\n",
        "\n",
        "  def schedule(self):\n",
        "    if self._is_available():\n",
        "      print(\"PartyPlace :: Schedule of the party place made!\\n\")\n",
        "\n",
        "# Subsistema 2\n",
        "\n",
        "class Florist:\n",
        "\n",
        "  def __init__(self):\n",
        "    print(\"Florist :: Flowers for an event?\")\n",
        "\n",
        "  def get_flowers(self):\n",
        "    print(\"Florist :: Roses, daisies and lilies will be used..\\n\")\n",
        "\n",
        "# Subsistema 3\n",
        "\n",
        "class Restaurant:\n",
        "\n",
        "  def __init__(self):\n",
        "    print(\"Restaurant :: Buffet for the event?\")\n",
        "\n",
        "  def prepare(self):\n",
        "    print(\"Restaurant :: Chinese and brazilian food will be served..\\n\")\n",
        "\n",
        "# Subsistema 4\n",
        "\n",
        "class Band:\n",
        "\n",
        "  def __init__(self):\n",
        "    print(\"Band :: Music Band for the event?\")\n",
        "\n",
        "  def set_up_stage(self):\n",
        "    print(\"Band :: Preparing stage to play rock in the event..\\n\")\n",
        "\n",
        "# Client\n",
        "\n",
        "class Client:\n",
        "\n",
        "  def __init__(self):\n",
        "    print(\"Client :: Wow! Preparation for event!\")\n",
        "\n",
        "  def hire_event_manager(self):\n",
        "    print(\"Client :: I will hire a company to manage the event\\n\")\n",
        "\n",
        "    em = EventManager()\n",
        "    em.organize()\n",
        "\n",
        "  # Método del que deleta o cliente instanciado da memória depois de terminar a execução\n",
        "  def __del__(self):\n",
        "    print(\"Client :: It was simple to organize this event with Façade System!\")\n",
        "\n",
        "if __name__ == \"__main__\":\n",
        "  client = Client()\n",
        "  client.hire_event_manager()"
      ]
    },
    {
      "cell_type": "markdown",
      "source": [
        "# Proxy example"
      ],
      "metadata": {
        "id": "BdDvFIpEkQMV"
      }
    },
    {
      "cell_type": "code",
      "source": [
        "# Seeker\n",
        "\n",
        "class Actor:\n",
        "\n",
        "  def __init__(self):\n",
        "    self.busy = False\n",
        "\n",
        "  def unavailable(self):\n",
        "    self.busy = True\n",
        "    print(f\"{type(self).__name__} is busy acting right now.\")\n",
        "\n",
        "  def available(self):\n",
        "    self.busy = False\n",
        "    print(f\"{type(self).__name__} is available to act!\")\n",
        "\n",
        "  def availability(self):\n",
        "    return self.busy\n",
        "\n",
        "# Proxy -> Classe que vai intermediar o seeker e o provider(cliente)\n",
        "\n",
        "class Agent:\n",
        "\n",
        "  def work(self):\n",
        "\n",
        "    # Instancia a classe ator e cria um objeto dela\n",
        "    actor = Actor()\n",
        "\n",
        "    # Se o ator estiver ocupado, ele fica indisponível\n",
        "    if actor.availability():\n",
        "      actor.unavailable()\n",
        "\n",
        "    # Caso contrário, fica disponível\n",
        "    else:\n",
        "      actor.available()\n",
        "\n",
        "# Requestor(Client)\n",
        "\n",
        "if __name__ == \"__main__\":\n",
        "  agent = Agent()\n",
        "  agent.work()"
      ],
      "metadata": {
        "colab": {
          "base_uri": "https://localhost:8080/"
        },
        "id": "ipZlo9SCjPGm",
        "outputId": "e36b425b-a6ff-4796-aa3b-2a5af6683269"
      },
      "execution_count": null,
      "outputs": [
        {
          "output_type": "stream",
          "name": "stdout",
          "text": [
            "Actor is available to act!\n"
          ]
        }
      ]
    },
    {
      "cell_type": "markdown",
      "source": [
        "# Proxy\n",
        "Contexto: Imagine que quer ir a um bar e não tem dinheiro em espécie, em um tempo não distante, é possível sacar dinheiro no caixa eletrônico ou iria preencher um cheque e descontar da conta no banco. Atualmente, utiliza-se o cartão de débito, que ao ser apresentado, o dinheiro é debitado da conta do pagador e creditado na conta de quem recebe.\n",
        "\n",
        "Utiliza-se o Proxy nesse contexto de forma que o cliente(eu), utiliza do cartão de débito(Proxy) para pagar ao comerciante. Ou seja, o cliente acessa indiretamente o seu banco para efetuar o pagamento por meio do cartão de débito."
      ],
      "metadata": {
        "id": "f5Gszu7zuk3Z"
      }
    },
    {
      "cell_type": "code",
      "source": [
        "from abc import ABCMeta, abstractmethod\n",
        "\n",
        "# Interface abstrata com método abstrato para o objeto e para o Proxy\n",
        "class Wallet(metaclass=ABCMeta):\n",
        "\n",
        "  @abstractmethod\n",
        "  def pay(self):\n",
        "    pass\n",
        "\n",
        "# Objeto real\n",
        "class Bank(Wallet):\n",
        "\n",
        "  def __init__(self):\n",
        "    self.card = None\n",
        "    self.account = None\n",
        "\n",
        "  def __get_account(self):\n",
        "    self.account = self.card\n",
        "\n",
        "    return self.account\n",
        "\n",
        "  def __has_balance(self):\n",
        "    print(f\"Bank :: Checking if the account {self.__get_account()} has balance.\")\n",
        "\n",
        "    return True\n",
        "\n",
        "  def set_card(self, card):\n",
        "    self.card = card\n",
        "\n",
        "  # Método da interface sendo implementado\n",
        "  def pay(self):\n",
        "    if self.__has_balance():\n",
        "      print(\"Bank :: Paying the bar...\")\n",
        "      return True\n",
        "    else:\n",
        "      print(\"Bank :: Sorry, you don't have enough balance\")\n",
        "      return False\n",
        "\n",
        "# Proxy\n",
        "class DebitCard(Wallet):\n",
        "\n",
        "  def __init__(self):\n",
        "    self.bank = Bank()\n",
        "\n",
        "  # Método da interface(obrigatório implementar, pois herda essa interface)\n",
        "  def pay(self):\n",
        "    card = input(\"Proxy :: Provide the card number: \")\n",
        "\n",
        "    # Seta o cartão no banco(classe instanciada anteriormente)\n",
        "    self.bank.set_card(card)\n",
        "\n",
        "    # Aqui está a ação do Proxy, que utiliza o banco para efetuar o pagamento\n",
        "    return self.bank.pay()\n",
        "\n",
        "# Client\n",
        "class Client:\n",
        "\n",
        "  def __init__(self):\n",
        "    print(\"Client :: I want to buy a beer\")\n",
        "    self.debit_card = DebitCard()\n",
        "    self.bought = None\n",
        "\n",
        "  def do_payment(self):\n",
        "    self.bought = self.debit_card.pay()\n",
        "\n",
        "    if self.bought:\n",
        "      print(\"Client :: I finally will drink a beer!\")\n",
        "    else:\n",
        "      print(\"Client :: F**k! I would like to have more money...\")\n",
        "\n",
        "  # def __del__(self):\n",
        "  #   if self.bought:\n",
        "  #     print(\"Client :: I finally will drink a beer!\")\n",
        "  #   else:\n",
        "  #     print(\"Client :: F**k! I would like to have more money...\")\n",
        "\n",
        "if __name__ == \"__main__\":\n",
        "  client = Client()\n",
        "  client.do_payment()\n"
      ],
      "metadata": {
        "colab": {
          "base_uri": "https://localhost:8080/"
        },
        "id": "cOit14PKurQU",
        "outputId": "cdaaf0f8-4b3e-43b7-fdbd-c033ea7470a1"
      },
      "execution_count": null,
      "outputs": [
        {
          "output_type": "stream",
          "name": "stdout",
          "text": [
            "Client :: I want to buy a beer\n",
            "Proxy :: Provide the card number: 12345\n",
            "Bank :: Checking if the account 12345 has balance.\n",
            "Bank :: Paying the bar...\n",
            "Client :: I finally will drink a beer!\n"
          ]
        }
      ]
    }
  ]
}