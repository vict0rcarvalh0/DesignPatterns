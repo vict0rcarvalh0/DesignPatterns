{
  "nbformat": 4,
  "nbformat_minor": 0,
  "metadata": {
    "colab": {
      "provenance": [],
      "collapsed_sections": [
        "GXBJOUTTkoHG",
        "OvG31rOcrXP7"
      ]
    },
    "kernelspec": {
      "name": "python3",
      "display_name": "Python 3"
    },
    "language_info": {
      "name": "python"
    }
  },
  "cells": [
    {
      "cell_type": "markdown",
      "source": [
        "# Observer"
      ],
      "metadata": {
        "id": "GXBJOUTTkoHG"
      }
    },
    {
      "cell_type": "code",
      "execution_count": null,
      "metadata": {
        "colab": {
          "base_uri": "https://localhost:8080/"
        },
        "id": "hig7iC4ihJK_",
        "outputId": "e137068e-3679-47fb-d347-625ef303c3fa"
      },
      "outputs": [
        {
          "output_type": "stream",
          "name": "stdout",
          "text": [
            "The ObserverA received a Notification from Object\n",
            "The ObserverB received a Notification from Object\n"
          ]
        }
      ],
      "source": [
        "class Object:\n",
        "\n",
        "  def __init__(self):\n",
        "    self.__observers = []\n",
        "\n",
        "  def __repr__(self):\n",
        "    return \"Object\"\n",
        "\n",
        "  def register(self, observer):\n",
        "    self.__observers.append(observer)\n",
        "\n",
        "  # Método que notifica os observadores do objeto sobre\n",
        "  # kwargs são parâmetros nomeados\n",
        "  def notify_all(self, *args, **kwargs):\n",
        "    for observer in self.__observers:\n",
        "      observer.notify(self, *args, **kwargs)\n",
        "\n",
        "class ObserverA:\n",
        "\n",
        "  def __init__(self, object):\n",
        "    object.register(self)\n",
        "\n",
        "  def notify(self, object, *args):\n",
        "    print(f\"The {type(self).__name__} received a {args[0]} from {object}\")\n",
        "\n",
        "class ObserverB:\n",
        "\n",
        "  def __init__(self, object):\n",
        "    object.register(self)\n",
        "\n",
        "  def notify(self, object, *args):\n",
        "    print(f\"The {type(self).__name__} received a {args[0]} from {object}\")\n",
        "\n",
        "obj = Object()\n",
        "\n",
        "obs_a = ObserverA(obj)\n",
        "obs_b = ObserverB(obj)\n",
        "\n",
        "obj.notify_all(\"Notification\")"
      ]
    },
    {
      "cell_type": "markdown",
      "source": [
        "# Observer - Pull Model\n",
        "Contexto: Agencia de notícias que possui diferentes tipos de inscritos(pessoas que recebem as notícias) e diferentes meios(ex: sms, email, etc). Quando a agencia vai publicar uma notícia ela deve atingir todos os meios e inscritos para essa nova notícia, para isso, será utilizado o padrão Observer."
      ],
      "metadata": {
        "id": "OvG31rOcrXP7"
      }
    },
    {
      "cell_type": "code",
      "source": [
        "from abc import ABCMeta, abstractmethod\n",
        "\n",
        "# Assunto/Tópico\n",
        "class NewsAgency:\n",
        "\n",
        "  # Construtor com os inscritos e última notícia\n",
        "  def __init__(self):\n",
        "    self.__registered = []\n",
        "    self.__last_new = None\n",
        "\n",
        "  # Método que recebe um inscrito e adiciona na lista\n",
        "  def register(self, registered):\n",
        "    self.__registered.append(registered)\n",
        "\n",
        "  def unregister(self, registered = None):\n",
        "    # Se não tiver inscrito específico ele tira o último\n",
        "    if not registered:\n",
        "      return self.__registered.pop()\n",
        "    # Caso contrário, tira o inscrito especificado\n",
        "    else:\n",
        "      return self.__registered.remove(registered)\n",
        "\n",
        "  # Método para mostrar os inscritos\n",
        "  def registered(self):\n",
        "    return [type(value).__name__ for value in self.__registered]\n",
        "\n",
        "  # Método para notificar todos os inscritos\n",
        "  def notify_all(self):\n",
        "    for i in self.__registered:\n",
        "      i.notify()\n",
        "\n",
        "  # Método para adicionar nova notícia\n",
        "  def add_news(self, news):\n",
        "    self.__last_new = news\n",
        "\n",
        "  # Método para mostrar nova notícia\n",
        "  def show_news(self):\n",
        "    return (f\"LAST NEW!!! {self.__last_new}\")\n",
        "\n",
        "# Interface Observer\n",
        "class RegisterType(metaclass=ABCMeta):\n",
        "\n",
        "  @abstractmethod\n",
        "  def notify(self):\n",
        "    pass\n",
        "\n",
        "# ObserverA\n",
        "class SMSRegistered(RegisterType):\n",
        "\n",
        "  def __init__(self, news_agency):\n",
        "    self.news_agency = news_agency\n",
        "    self.news_agency.register(self)\n",
        "\n",
        "  def notify(self):\n",
        "    print(f\"{type(self).__name__}: {self.news_agency.show_news()}\")\n",
        "\n",
        "# ObserverB\n",
        "class EmailRegistered(RegisterType):\n",
        "\n",
        "  def __init__(self, news_agency):\n",
        "    self.news_agency = news_agency\n",
        "    self.news_agency.register(self)\n",
        "\n",
        "  def notify(self):\n",
        "    print(f\"{type(self).__name__}: {self.news_agency.show_news()}\")\n",
        "\n",
        "# ObserverC\n",
        "class DiscordRegistered(RegisterType):\n",
        "\n",
        "  def __init__(self, news_agency):\n",
        "    self.news_agency = news_agency\n",
        "    self.news_agency.register(self)\n",
        "\n",
        "  def notify(self):\n",
        "    print(f\"{type(self).__name__}: {self.news_agency.show_news()}\")\n",
        "\n",
        "# Client\n",
        "if __name__ == \"__main__\":\n",
        "  news_agency = NewsAgency()\n",
        "\n",
        "  SMSRegistered(news_agency)\n",
        "  EmailRegistered(news_agency)\n",
        "  DiscordRegistered(news_agency)\n",
        "\n",
        "  print(f\"Registered: {news_agency.registered()}\\n\")\n",
        "\n",
        "  news_agency.add_news(\"New pandemic growing at Brazil!\")\n",
        "  news_agency.notify_all()\n",
        "\n",
        "  print(f\"\\nUnregistered: {type(news_agency.unregister()).__name__}\\n\")\n",
        "  print(f\"Registered: {news_agency.registered()}\\n\")\n",
        "\n",
        "  news_agency.add_news(\"Victor is the new Design Patterns King!\")\n",
        "  news_agency.notify_all()"
      ],
      "metadata": {
        "colab": {
          "base_uri": "https://localhost:8080/"
        },
        "id": "YZQ7bov4rWwf",
        "outputId": "3d58938f-460d-4bb5-e603-ca2168ee0e2c"
      },
      "execution_count": null,
      "outputs": [
        {
          "output_type": "stream",
          "name": "stdout",
          "text": [
            "Registered: ['SMSRegistered', 'EmailRegistered', 'DiscordRegistered']\n",
            "\n",
            "SMSRegistered: LAST NEW!!! New pandemic growing at Brazil!\n",
            "EmailRegistered: LAST NEW!!! New pandemic growing at Brazil!\n",
            "DiscordRegistered: LAST NEW!!! New pandemic growing at Brazil!\n",
            "\n",
            "Unregistered: DiscordRegistered\n",
            "\n",
            "Registered: ['SMSRegistered', 'EmailRegistered']\n",
            "\n",
            "SMSRegistered: LAST NEW!!! Victor is the new Design Patterns King!\n",
            "EmailRegistered: LAST NEW!!! Victor is the new Design Patterns King!\n"
          ]
        }
      ]
    },
    {
      "cell_type": "markdown",
      "source": [
        "# Command"
      ],
      "metadata": {
        "id": "qnKNkROUbwns"
      }
    },
    {
      "cell_type": "code",
      "source": [
        "s# Command\n",
        "class Installer:\n",
        "\n",
        "  def __init__(self, source, destiny):\n",
        "    self.options = []\n",
        "    self.source = source\n",
        "    self.destiny = destiny\n",
        "\n",
        "  def settings(self, choice):\n",
        "    self.options.append(choice)\n",
        "\n",
        "  def execute(self):\n",
        "    for option in self.options:\n",
        "      if list(option.values())[0]:\n",
        "        print(f\"Copying binaries from {self.source} to {self.destiny}\")\n",
        "      else:\n",
        "        print(\"Operation has finished!\")\n",
        "\n",
        "# Client\n",
        "if __name__ == \"__main__\":\n",
        "  # Inicia o instalador\n",
        "  installer = Installer(\"python-3.9.1.gzip\", \"/usr/bin/\")\n",
        "\n",
        "  # O usuário escolhe instalar apenas o Python\n",
        "  installer.settings({\"python\": True})\n",
        "  installer.settings({\"java\": False})\n",
        "\n",
        "  # Executa a instalação\n",
        "  installer.execute()"
      ],
      "metadata": {
        "colab": {
          "base_uri": "https://localhost:8080/"
        },
        "id": "DrvzjUN1by5e",
        "outputId": "2e525733-56bd-47ca-e8f6-69623ac4390e"
      },
      "execution_count": null,
      "outputs": [
        {
          "output_type": "stream",
          "name": "stdout",
          "text": [
            "Copying binaries from python-3.9.1.gzip to /usr/bin/\n",
            "Operation has finished!\n"
          ]
        }
      ]
    },
    {
      "cell_type": "code",
      "source": [
        "from abc import ABCMeta, abstractmethod\n",
        "\n",
        "# Command\n",
        "class Command(metaclass=ABCMeta):\n",
        "\n",
        "  # Constructor para especificar o receiver\n",
        "  def __init__(self, recv):\n",
        "    self.recv = recv\n",
        "\n",
        "  # Método abstrato\n",
        "  @abstractmethod\n",
        "  def execute(self):\n",
        "    pass\n",
        "\n",
        "# Concrete Command(Interface)\n",
        "class ConcreteCommand(Command):\n",
        "\n",
        "  def __init__(self, recv):\n",
        "    self.recv = recv\n",
        "\n",
        "  def execute(self):\n",
        "    self.recv.action()\n",
        "\n",
        "# Receiver\n",
        "class Receiver:\n",
        "\n",
        "  # Método que executa uma ação\n",
        "  def action(self):\n",
        "    print(\"Receiver Action!\")\n",
        "\n",
        "# Invoker\n",
        "class Invoker:\n",
        "\n",
        "  # Define o comando concreto e permite o uso de seus métodos\n",
        "  def command(self, cmd):\n",
        "    self.cmd = cmd\n",
        "\n",
        "  # Método que utiliza o método execute do comando concreto\n",
        "  def execute(self):\n",
        "    self.cmd.execute()\n",
        "\n",
        "# Client\n",
        "if __name__ == \"__main__\":\n",
        "  recv = Receiver()\n",
        "  cmd = ConcreteCommand(recv)\n",
        "\n",
        "  invoker = Invoker()\n",
        "  invoker.command(cmd)\n",
        "  invoker.execute()"
      ],
      "metadata": {
        "colab": {
          "base_uri": "https://localhost:8080/"
        },
        "id": "kCkQ55IwYQ22",
        "outputId": "644c38a7-45ba-4f9d-9f3f-c64181ffc7b7"
      },
      "execution_count": null,
      "outputs": [
        {
          "output_type": "stream",
          "name": "stdout",
          "text": [
            "Receiver Action!\n"
          ]
        }
      ]
    },
    {
      "cell_type": "markdown",
      "source": [
        "# Command\n",
        "Contexto: Em uma bolsa de valores, pessoas compram e vendem ações de empresas. Como usuário, é necessário criar pedidos(ordem de compra e venda) de ações. De forma que o corretor/agente execute esses pedidos criados pelo usuário(investidor)."
      ],
      "metadata": {
        "id": "HJzwhixsaj9I"
      }
    },
    {
      "cell_type": "code",
      "source": [
        "from abc import ABCMeta, abstractmethod\n",
        "\n",
        "# Command Interface\n",
        "class Order(metaclass=ABCMeta):\n",
        "\n",
        "  @abstractmethod\n",
        "  def execute(self):\n",
        "    pass\n",
        "\n",
        "# Concrete Commands\n",
        "class BuyOrder(Order):\n",
        "\n",
        "  def __init__(self, stocks):\n",
        "    self.stocks = stocks\n",
        "\n",
        "  def execute(self):\n",
        "    self.stocks.buy()\n",
        "\n",
        "class SellOrder(Order):\n",
        "\n",
        "  def __init__(self, stocks):\n",
        "    self.stocks = stocks\n",
        "\n",
        "  def execute(self):\n",
        "    self.stocks.sell()\n",
        "\n",
        "# Receiver\n",
        "class Stocks:\n",
        "\n",
        "  def buy(self):\n",
        "    print(\"You'll buy stocks!\")\n",
        "\n",
        "  def sell(self):\n",
        "    print(\"You'll sell stocks!\")\n",
        "\n",
        "# Invoker\n",
        "class Agent:\n",
        "\n",
        "  def __init__(self):\n",
        "    self.__order_queue = []\n",
        "\n",
        "  def add_order_to_queue(self, order):\n",
        "    self.__order_queue.append(order)\n",
        "    order.execute()\n",
        "\n",
        "\n",
        "if __name__ == \"__main__\":\n",
        "\n",
        "  # Client\n",
        "  stocks = Stocks()\n",
        "  buy_order = BuyOrder(stocks)\n",
        "  sell_order = SellOrder(stocks)\n",
        "\n",
        "  # Invoker\n",
        "  agent = Agent()\n",
        "  agent.add_order_to_queue(buy_order)\n",
        "  agent.add_order_to_queue(sell_order)"
      ],
      "metadata": {
        "colab": {
          "base_uri": "https://localhost:8080/"
        },
        "id": "RToDA9WybEys",
        "outputId": "f8c7da8f-5b78-4348-a293-ae5df41cd1e1"
      },
      "execution_count": null,
      "outputs": [
        {
          "output_type": "stream",
          "name": "stdout",
          "text": [
            "You'll buy stocks!\n",
            "You'll sell stocks!\n"
          ]
        }
      ]
    },
    {
      "cell_type": "markdown",
      "source": [
        "# Template Method"
      ],
      "metadata": {
        "id": "700sloljuJ3h"
      }
    },
    {
      "cell_type": "code",
      "source": [
        "from abc import ABCMeta, abstractmethod\n",
        "\n",
        "# Interface\n",
        "class Compiler(metaclass=ABCMeta):\n",
        "\n",
        "  # Definindo métodos abstratos que as classes filhas vão implementar\n",
        "  @abstractmethod\n",
        "  def collect_font(self):\n",
        "    pass\n",
        "\n",
        "  @abstractmethod\n",
        "  def compile_object(self):\n",
        "    pass\n",
        "\n",
        "  @abstractmethod\n",
        "  def execute(self):\n",
        "    pass\n",
        "\n",
        "  # Template Method(possui o passo a passo da execução do algoritmo para cada subclasse)\n",
        "  def compile_and_execute(self):\n",
        "    self.collect_font()\n",
        "    self.compile_object()\n",
        "    self.execute()\n",
        "\n",
        "# Subclasse\n",
        "class IosCompiler(Compiler):\n",
        "\n",
        "  def collect_font(self):\n",
        "    print(\"Collecting Swift code\")\n",
        "\n",
        "  def compile_object(self):\n",
        "    print(\"Compiling Swift code to LLVM bytecode...\")\n",
        "\n",
        "  def execute(self):\n",
        "    print(\"Running on development environment!\")\n",
        "\n",
        "# Subclasse\n",
        "class AndroidCompiler(Compiler):\n",
        "\n",
        "  def collect_font(self):\n",
        "    print(\"Collecting Kotlin code\")\n",
        "\n",
        "  def compile_object(self):\n",
        "    print(\"Compiling Kotlin code to JVM bytecode...\")\n",
        "\n",
        "  def execute(self):\n",
        "    print(\"Running on development environment!\")\n",
        "\n",
        "# Instanciando os objetos\n",
        "ios = IosCompiler()\n",
        "ios.compile_and_execute()\n",
        "\n",
        "android = AndroidCompiler()\n",
        "android.compile_and_execute()"
      ],
      "metadata": {
        "colab": {
          "base_uri": "https://localhost:8080/"
        },
        "id": "RWCqs1cmuL3V",
        "outputId": "2b7d2314-5849-443f-c5de-a72ce2cc8a67"
      },
      "execution_count": null,
      "outputs": [
        {
          "output_type": "stream",
          "name": "stdout",
          "text": [
            "Collecting Swift code\n",
            "Compiling Swift code to LLVM bytecode...\n",
            "Running on development environment!\n",
            "Collecting Kotlin code\n",
            "Compiling Kotlin code to JVM bytecode...\n",
            "Running on development environment!\n"
          ]
        }
      ]
    },
    {
      "cell_type": "markdown",
      "source": [
        "# Template Method"
      ],
      "metadata": {
        "id": "0cJQcW6DyoTi"
      }
    },
    {
      "cell_type": "code",
      "source": [
        "from abc import ABCMeta, abstractmethod\n",
        "\n",
        "class AbstractClass(metaclass=ABCMeta):\n",
        "\n",
        "  def __init__(self):\n",
        "    pass\n",
        "\n",
        "  @abstractmethod\n",
        "  def operation1(self):\n",
        "    pass\n",
        "\n",
        "  @abstractmethod\n",
        "  def operation2(self):\n",
        "    pass\n",
        "\n",
        "  def template_method(self):\n",
        "    print(\"Defining algorithm: Operation 1 after Operation 2\")\n",
        "    self.operation2()\n",
        "    self.operation1()\n",
        "\n",
        "class ConcreteClass(AbstractClass):\n",
        "\n",
        "  def operation1(self):\n",
        "    print(\"Concrete operation 1\")\n",
        "\n",
        "  def operation2(self):\n",
        "    print(\"Concrete operation 2\")\n",
        "\n",
        "class Client:\n",
        "\n",
        "  def main(self):\n",
        "    self.concrete = ConcreteClass()\n",
        "    self.concrete.template_method()\n",
        "\n",
        "client = Client()\n",
        "client.main()"
      ],
      "metadata": {
        "colab": {
          "base_uri": "https://localhost:8080/"
        },
        "id": "4PrgdgeByrro",
        "outputId": "51064ca1-b20d-41a6-c57a-c4b31ddaae01"
      },
      "execution_count": null,
      "outputs": [
        {
          "output_type": "stream",
          "name": "stdout",
          "text": [
            "Defining algorithm: Operation 1 after Operation 2\n",
            "Concrete operation 2\n",
            "Concrete operation 1\n"
          ]
        }
      ]
    },
    {
      "cell_type": "markdown",
      "source": [
        "# Template Method\n",
        "Contexto: Imagine que é dono de uma agência de viagens que oferece pacotes de viagens de 3 dias em diferentes lugares. O pacote inclui a viagem de ida, 3 dias no local escolhido e a viagem de volta."
      ],
      "metadata": {
        "id": "5eFWoeqQuoHo"
      }
    },
    {
      "cell_type": "code",
      "source": [
        "from abc import ABCMeta, abstractmethod\n",
        "\n",
        "# Abstract Class\n",
        "class Travel(metaclass=ABCMeta):\n",
        "\n",
        "  @abstractmethod\n",
        "  def going(self):\n",
        "    pass\n",
        "\n",
        "  @abstractmethod\n",
        "  def day1(self):\n",
        "    pass\n",
        "\n",
        "  @abstractmethod\n",
        "  def day2(self):\n",
        "    pass\n",
        "\n",
        "  @abstractmethod\n",
        "  def day3(self):\n",
        "    pass\n",
        "\n",
        "  @abstractmethod\n",
        "  def returning(self):\n",
        "    pass\n",
        "\n",
        "  # Template Method\n",
        "  def timeline(self):\n",
        "    self.going()\n",
        "    self.day1()\n",
        "    self.day2()\n",
        "    self.day3()\n",
        "    self.returning()\n",
        "\n",
        "# Concrete Class\n",
        "class BrazilTrip(Travel):\n",
        "\n",
        "  def going(self):\n",
        "    print(\"Airplane trip\")\n",
        "\n",
        "  def day1(self):\n",
        "    print(\"Visiting Cristo Redentor\")\n",
        "\n",
        "  def day2(self):\n",
        "    print(\"Going to the beach\")\n",
        "\n",
        "  def day3(self):\n",
        "    print(\"Visiting Museum and eating feijoada\")\n",
        "\n",
        "  def returning(self):\n",
        "    print(\"Airplane trip\")\n",
        "\n",
        "\n",
        "class UnitedStatesTrip(Travel):\n",
        "\n",
        "  def going(self):\n",
        "    print(\"Airplane trip\")\n",
        "\n",
        "  def day1(self):\n",
        "    print(\"Visiting Statue of Liberty\")\n",
        "\n",
        "  def day2(self):\n",
        "    print(\"Visiting World Trade Center\")\n",
        "\n",
        "  def day3(self):\n",
        "    print(\"Visiting Broadway\")\n",
        "\n",
        "  def returning(self):\n",
        "    print(\"Airplane trip\")\n",
        "\n",
        "class Agency:\n",
        "\n",
        "  def prepare_trip(self):\n",
        "    option = input(\"Which place you wanna go? [Brazil, United States]:\")\n",
        "\n",
        "    if option == \"Brazil\":\n",
        "      self.trip = BrazilTrip()\n",
        "      self.trip.timeline()\n",
        "\n",
        "    elif option == \"United States\":\n",
        "      self.trip = UnitedStatesTrip()\n",
        "      self.trip.timeline()\n",
        "\n",
        "    else:\n",
        "      print(\"At the moment we don't have this place as an option!\")\n",
        "\n",
        "agency = Agency()\n",
        "agency.prepare_trip()"
      ],
      "metadata": {
        "colab": {
          "base_uri": "https://localhost:8080/"
        },
        "id": "qeK2SvHnuc4F",
        "outputId": "6b1c65c6-2491-4096-ace3-ba1bafbaa775"
      },
      "execution_count": null,
      "outputs": [
        {
          "output_type": "stream",
          "name": "stdout",
          "text": [
            "Which place you wanna go? [Brazil, United States]:Brazil\n",
            "Airplane trip\n",
            "Visiting Cristo Redentor\n",
            "Going to the beach\n",
            "Visiting Museum and eating feijoada\n",
            "Airplane trip\n"
          ]
        }
      ]
    },
    {
      "cell_type": "markdown",
      "source": [
        "# State"
      ],
      "metadata": {
        "id": "lSr9voOZKGYS"
      }
    },
    {
      "cell_type": "code",
      "source": [
        "from abc import ABCMeta, abstractmethod\n",
        "\n",
        "# State\n",
        "class State(metaclass=ABCMeta):\n",
        "\n",
        "  @abstractmethod\n",
        "  def manipulate(self):\n",
        "    pass\n",
        "\n",
        "# Concrete States\n",
        "class ConcreteStateA(State):\n",
        "\n",
        "  def manipulate(self):\n",
        "    print(\"Concrete State A!\")\n",
        "\n",
        "class ConcreteStateB(State):\n",
        "\n",
        "  def manipulate(self):\n",
        "    print(\"Concrete State B!\")\n",
        "\n",
        "# Context\n",
        "class Context(State):\n",
        "\n",
        "  # Construtor: Define o estado inicial como None\n",
        "  def __init__(self):\n",
        "    self.state = None\n",
        "\n",
        "  # Método: Pega o estado\n",
        "  def get_state(self):\n",
        "    return self.state\n",
        "\n",
        "  # Método: Define um novo estado\n",
        "  def set_state(self, state):\n",
        "    self.state = state\n",
        "\n",
        "  # Método: Manipula o estado\n",
        "  def manipulate(self):\n",
        "    self.state.manipulate()\n",
        "\n",
        "context = Context()\n",
        "state_a = ConcreteStateA()\n",
        "state_b = ConcreteStateB()\n",
        "\n",
        "context.set_state(state_a)\n",
        "context.manipulate()\n",
        "print(\"Changing state...\")\n",
        "\n",
        "context.set_state(state_b)\n",
        "context.manipulate()"
      ],
      "metadata": {
        "colab": {
          "base_uri": "https://localhost:8080/"
        },
        "id": "JJahg6EAKHjf",
        "outputId": "66e1120b-b962-447e-a167-ae7fe726a49d"
      },
      "execution_count": null,
      "outputs": [
        {
          "output_type": "stream",
          "name": "stdout",
          "text": [
            "Concrete State A!\n",
            "Changing state...\n",
            "Concrete State B!\n"
          ]
        }
      ]
    },
    {
      "cell_type": "markdown",
      "source": [
        "# State\n",
        "Contexto: Imagine que é possível redefinir o estado de um computador para ligado e desligado. Se estiver ligado, é possível suspender ou hibernar o computador. Para isso várias condições existem(e. g. Um computador suspenso não pode hibernar)"
      ],
      "metadata": {
        "id": "-N6ea9_jMVxm"
      }
    },
    {
      "cell_type": "code",
      "source": [
        "from abc import ABCMeta\n",
        "\n",
        "# State\n",
        "class ComputerState(metaclass=ABCMeta):\n",
        "\n",
        "  # Atributos de classe\n",
        "  name = \"State\"\n",
        "  allowed = []\n",
        "\n",
        "  # Método para mudança de estados\n",
        "  def change(self, state):\n",
        "    if state.name in self.allowed:\n",
        "      print(f\"Current: {self} => Changed to a new state: {state.name}\")\n",
        "      self.__class__ = state\n",
        "    else:\n",
        "      print(f\"Current: {self} => Is not possible to change to: {state.name}\")\n",
        "\n",
        "  def __str__(self):\n",
        "    return self.name\n",
        "\n",
        "# Concrete States\n",
        "class TurnOn(ComputerState):\n",
        "  name = \"Turn On\"\n",
        "  allowed = [\"Turn Off\", \"Suspend\", \"Hibernate\"]\n",
        "\n",
        "class TurnOff(ComputerState):\n",
        "  name = \"Turn Off\"\n",
        "  allowed = [\"Turn On\"]\n",
        "\n",
        "class Suspend(ComputerState):\n",
        "  name = \"Suspend\"\n",
        "  allowed = [\"Turn On\"]\n",
        "\n",
        "class Hibernate(ComputerState):\n",
        "  name = \"Hibernate\"\n",
        "  allowed = [\"Turn On\"]\n",
        "\n",
        "# Context\n",
        "class Computer:\n",
        "\n",
        "  def __init__(self, model = \"Dell XPS\"):\n",
        "    self.model = model\n",
        "    self.state = TurnOff()\n",
        "\n",
        "  def modify(self, state):\n",
        "    self.state.change(state)\n",
        "\n",
        "if __name__ == \"__main__\":\n",
        "  computer = Computer()\n",
        "\n",
        "  # Ligar\n",
        "  computer.modify(TurnOn)\n",
        "\n",
        "  # Desligar\n",
        "  computer.modify(TurnOff)\n",
        "\n",
        "  # Ligar novamente\n",
        "  computer.modify(TurnOn)\n",
        "\n",
        "  # Suspender\n",
        "  computer.modify(Suspend)\n",
        "\n",
        "  # Tentar hibernar(não pode)\n",
        "  computer.modify(Hibernate)\n",
        "\n",
        "  # Ligar novamente\n",
        "  computer.modify(TurnOn)\n",
        "\n",
        "  # Hibernar\n",
        "  computer.modify(Hibernate)"
      ],
      "metadata": {
        "colab": {
          "base_uri": "https://localhost:8080/"
        },
        "id": "p7CVAKn5M0G4",
        "outputId": "95b6d127-2e3c-4db6-f541-68275314972f"
      },
      "execution_count": null,
      "outputs": [
        {
          "output_type": "stream",
          "name": "stdout",
          "text": [
            "Current: Turn Off => Changed to a new state: Turn On\n",
            "Current: Turn On => Changed to a new state: Turn Off\n",
            "Current: Turn Off => Changed to a new state: Turn On\n",
            "Current: Turn On => Changed to a new state: Suspend\n",
            "Current: Suspend => Is not possible to change to: Hibernate\n",
            "Current: Suspend => Changed to a new state: Turn On\n",
            "Current: Turn On => Changed to a new state: Hibernate\n"
          ]
        }
      ]
    }
  ]
}